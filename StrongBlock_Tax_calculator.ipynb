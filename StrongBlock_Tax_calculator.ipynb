{
  "cells": [
    {
      "cell_type": "markdown",
      "metadata": {
        "id": "rwSrfeI3XTf9"
      },
      "source": [
        "# **StrongBlock Capital Gains Tax Estimator**\n",
        "\n",
        "Well shams whats the story, doing a bit of the tax estimation are ya? Well your in the right place!\n",
        "\n",
        "Please excuse the mess, didnt have time or effort to code a front-end, so just ignore the code and utilise the outputs. Follow along if you like and learn a bit of python. Will provide explanations as we go, so if you think theres any features worth adding give me a shout and I'll see if i can add them!\n",
        "\n",
        "\n",
        "\n"
      ]
    },
    {
      "cell_type": "markdown",
      "metadata": {
        "id": "Bv6FoGhgYjAT"
      },
      "source": [
        "In an effort to make this all as accesible as possible we will be using google colab to execute our python cells. Colaboratory, or \"Colab\" for short, allows you to write and execute Python in your browser. Tis prety fucking handy if i do say so meself."
      ]
    },
    {
      "cell_type": "markdown",
      "metadata": {
        "id": "WOh2Mj9ucu0g"
      },
      "source": [
        "Were going to use a few Python data science libraries I'm familiar with through work - mainly NumPy for computation, Pandas for working with CSVs and Matplotlib for generating plots (still not sure if this is useful). We wil import them below - no need to do or change anything - everything is set up to go!\n",
        "\n",
        "To start the estimator, go to the runtime tab up top and select tun all.\n"
      ]
    },
    {
      "cell_type": "code",
      "execution_count": null,
      "metadata": {
        "colab": {
          "background_save": true
        },
        "id": "uckEqphuUk5g"
      },
      "outputs": [],
      "source": [
        "import numpy as np\n",
        "from datetime import datetime\n",
        "import matplotlib.pyplot as plt\n"
      ]
    },
    {
      "cell_type": "markdown",
      "metadata": {
        "id": "GZvPbrdIc4a2"
      },
      "source": [
        "# **Input Required Here**\n",
        "\n",
        "\n",
        "We will be getting the data for all transactions from **https://app.zerion.io/**. You will need to go to the website and connect your wallet. Once connected change your currency to Euro (EUR) using the drop-down menu in the top left of the page. Then select history from the tabs descending on the right hand of the page. Finally select download CSV to generate a CSV file of all transactions."
      ]
    },
    {
      "cell_type": "markdown",
      "metadata": {
        "id": "reSPy2ItfrTd"
      },
      "source": [
        "When thats done you can upload the CSV to colab using the button below."
      ]
    },
    {
      "cell_type": "code",
      "execution_count": null,
      "metadata": {
        "colab": {
          "base_uri": "https://localhost:8080/",
          "height": 38,
          "resources": {
            "http://localhost:8080/nbextensions/google.colab/files.js": {
              "data": "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",
              "headers": [
                [
                  "content-type",
                  "application/javascript"
                ]
              ],
              "ok": true,
              "status": 200,
              "status_text": ""
            }
          }
        },
        "id": "WVRp33_cY7xw",
        "outputId": "ec79582d-8405-48e3-e2c9-488910a6aadd"
      },
      "outputs": [],
      "source": [
        "# # Generate upload button\n",
        "# from google.colab import files\n",
        "# import io\n",
        "\n",
        "\n",
        "# zerion_csv = files.upload()\n",
        "\n",
        "# # Grab the file name from the first dictionary key\n",
        "# zerion_csv_file_name = list(zerion_csv.keys())[0]"
      ]
    },
    {
      "cell_type": "markdown",
      "metadata": {
        "id": "vacuxsTRgLc9"
      },
      "source": [
        "Here I inport the csv and do some adjustments. To make it easier to work with in python. I replace the spaces in the column headers with underscores (_'s) and fill in any NA values in the buy and sell currancy rows to avoid any issues when preforming nemerical or search operations etc."
      ]
    },
    {
      "cell_type": "code",
      "execution_count": null,
      "metadata": {
        "id": "cClwSF-vnjp_"
      },
      "outputs": [],
      "source": [
        "import pandas as pd\n",
        "\n",
        "# Create panda dataframe from the zerion CSV\n",
        "df = pd.read_csv (\"/Users/eamonmcandrew/Desktop/Portfolio_tools/StrongBlock/0x3598f618d45e02b92d9b4d8129d45dbd1b0beb5d transactions 01_20_2022 07_47 from Zerion.csv\")\n",
        "\n",
        "# Some data processing to make certain value more accesible in python\n",
        "df.columns = df.columns.str.replace(' ', '_')\n",
        "df['Buy_Currency'] = df['Buy_Currency'].fillna(\"_\")\n",
        "df['Sell_Currency'] = df['Sell_Currency'].fillna(\"_\")\n",
        "\n",
        "\n"
      ]
    },
    {
      "cell_type": "markdown",
      "metadata": {
        "id": "y9MO1ZLQhmdl"
      },
      "source": [
        "# Date selection \n",
        "The code cell below allows you to select the date range for the tax period you wish to calculate for. Just change the dates below and use run all again to restart the whole notebook and run. Best to do this everythime to keep everything accurate and running as I intended. Good thing is this can be done really quickly."
      ]
    },
    {
      "cell_type": "code",
      "execution_count": null,
      "metadata": {
        "id": "rtWw-eDDhDhX"
      },
      "outputs": [],
      "source": [
        "df = df[df.Date.between(\"01/01/2021\", \"12/13/2021\")]\n"
      ]
    },
    {
      "cell_type": "markdown",
      "metadata": {
        "id": "7k6HnPFamhlC"
      },
      "source": [
        "Here i'm going to calculate all the fees incurred when disposing (selling) $STRONG. I have done this through Uniswap and Cowswap - so essentially I understand there are two tax deductable fees here the ETH network fee and the relative exchange fees."
      ]
    },
    {
      "cell_type": "code",
      "execution_count": null,
      "metadata": {
        "id": "0HH7BIyQIpei"
      },
      "outputs": [],
      "source": [
        "# Create a dataframe of all times strong is sold \n",
        "Strong_swap_to_other_coin = df[df['Sell_Currency'].str.match(\"STRONG\")]\n",
        "\n",
        "# Sum the eth fees associated with each transaction.\n",
        "Strong_swap_ETH_fees = Strong_swap_to_other_coin.Fee_Fiat_Amount.sum()\n",
        "\n",
        "print(\"Strong Swap ethereum network Fees\", Strong_swap_ETH_fees)\n",
        "\n",
        "# Cowswap utilises a different mechanism to swap and the fees are paid using the currency you are converting to\n",
        "# Therefore the Eth network fees for these transactions are not available in the CSV. But we can get the exchange\n",
        "# fees by taking the fiat value of the coin being sold and subtracting it from the the fiat value of the coin\n",
        "# recieved. The difference is the Cowswap exchange fees.\n",
        "Strong_swap_to_other_coin_cowswap = Strong_swap_to_other_coin[Strong_swap_to_other_coin['Fee_Amount'].isnull()]\n",
        "Strong_swap_to_other_coin_cowswap = Strong_swap_to_other_coin_cowswap[[\"Buy_Fiat_Amount\" , \"Sell_Fiat_Amount\", \"Sell_Amount\"]]\n",
        "Strong_swap_to_other_coin_cowswap[\"Fees\"] = Strong_swap_to_other_coin_cowswap[\"Sell_Fiat_Amount\"].astype(float) - Strong_swap_to_other_coin_cowswap[\"Buy_Fiat_Amount\"].astype(float)\n",
        "Cowswap_fees = Strong_swap_to_other_coin_cowswap.Fees.sum()\n",
        "\n",
        "print(\"Strong Conversion Fees  Cowswap\", Cowswap_fees)\n",
        "\n"
      ]
    },
    {
      "cell_type": "markdown",
      "metadata": {
        "id": "q8hu541_M0Ie"
      },
      "source": [
        "Next I will calculate the strongblock apporval fees. This is the Eth fees paid when you approve a protocol to use strong. Unfortunately there was no way for me to automate this easily.. you probably will not have too many of these other than approving strong for node creation and approving strong for sale. If you want to use this feature then you will need to maunually copy the approval transactions from zerion and replace them with my ones below, just delete any extra TXs if you dont have as many (each tx is \"number\" followd by a comma). Mine came to very little so It might not be worth the effort for you."
      ]
    },
    {
      "cell_type": "code",
      "execution_count": null,
      "metadata": {
        "id": "VdULLrrbgBWB"
      },
      "outputs": [],
      "source": [
        "\n",
        "\n",
        "\n",
        "Approvals = df[df['Transaction_Type'].str.contains(\"Approval\")]\n",
        "Strong_approval_TXs = [\"0xb18ddb38d9031fd800d649ab7e471e836427827fe5cef5dc901856d53898e97f\", \"0x7171326dc1141bdb64e7b4b0b8034ca0d2586a1dc80ba1ef5078772c6c0f8840\", \"0xf5357f7998306b6740c366946ee29d084928473bf5c2f9690c0f3a95e31fd11d\", \"0x5be511a6dc9e0d90c8b90b7009f7f6373f06b551a91c0b986f6292183c5a33af\"]\n",
        "\n",
        "Strong_approval_TXs[0]\n",
        "Strong_approvals = []\n",
        "for i in range(len(Strong_approval_TXs)):\n",
        "  Strong_Approval = Approvals[Approvals['Tx_Hash'].str.contains(Strong_approval_TXs[i])]\n",
        "  Strong_approvals.append(Strong_Approval)\n",
        "\n",
        "Strong_approvals_df = pd.concat(Strong_approvals, axis=0, ignore_index=True)\n",
        "\n",
        "\n",
        "\n"
      ]
    },
    {
      "cell_type": "code",
      "execution_count": null,
      "metadata": {},
      "outputs": [],
      "source": [
        "Strong_approvals_df"
      ]
    },
    {
      "cell_type": "markdown",
      "metadata": {
        "id": "t0DIOQ911mE3"
      },
      "source": [
        "Next I will calculate the cost of all $STRONG bought (assuming you only used strong bought to make nodes - makes compounding calculation eaiser)."
      ]
    },
    {
      "cell_type": "code",
      "execution_count": null,
      "metadata": {
        "id": "g3U6BOPSvda8"
      },
      "outputs": [],
      "source": [
        "# Get total Incoming $STRONG transactions as a df\n",
        "Strong_To_Wallet = df[df['Buy_Currency'].str.contains(\"STRONG\")]\n"
      ]
    },
    {
      "cell_type": "code",
      "execution_count": null,
      "metadata": {
        "id": "pRQHQaG0L8SH"
      },
      "outputs": [],
      "source": [
        "# Get total incoming strong claims as a df, we can use the reciever address to distinguish these transactions.\n",
        "\n",
        "Strong_Claims = Strong_To_Wallet[Strong_To_Wallet['Receiver'].str.contains(\"0xfbddadd80fe7bda00b901fbaf73803f2238ae655\")]\n",
        "\n",
        "#Get total incoming strong buys \n",
        "Strong_Buys = Strong_To_Wallet[Strong_To_Wallet['Receiver'].str.contains(\"0x7a250d5630b4cf539739df2c5dacb4c659f2488d\")]\n",
        "Strong_buy_total = Strong_Buys.Buy_Fiat_Amount.astype(float).sum()\n",
        "\n",
        "Strong_buy_total"
      ]
    },
    {
      "cell_type": "code",
      "execution_count": null,
      "metadata": {},
      "outputs": [],
      "source": [
        "Strong_Claims"
      ]
    },
    {
      "cell_type": "code",
      "execution_count": null,
      "metadata": {
        "id": "E3x8zO5nXmkZ"
      },
      "outputs": [],
      "source": [
        "Strong_claims = Strong_Claims[[\"Date\", \"Sell_Fiat_Amount\", \"Fee_Fiat_Amount\", \"Buy_Fiat_Amount\", \"Tx_Hash\", \"Link\"]]\n",
        "Strong_claims_spent_total_column = Strong_claims[\"Sell_Fiat_Amount\"].astype(float) + Strong_claims[\"Fee_Fiat_Amount\"].astype(float)\n",
        "Strong_claims[\"total_paid_claims\"] = Strong_claims_spent_total_column\n",
        "Strong_claims.set_index('Date', inplace=True)\n",
        "\n",
        "Strong_claims "
      ]
    },
    {
      "cell_type": "code",
      "execution_count": null,
      "metadata": {},
      "outputs": [],
      "source": [
        "Strong_claims_display = Strong_claims\n",
        "Strong_claims_display = Strong_claims_display.rename(columns={\"Sell_Fiat_Amount\": \"Claim Fee\", \"Fee_Fiat_Amount\": \"ETH Network Fee Fiat\", \"Buy_Fiat_Amount\": \"Amount Claimed Fiat\", \"total_paid_claims\": \"Total Claim Fess Fiat\", \"Tx_Hash\": \"Transaction Hash\", \"Link\": \"Etherscan Link\" })\n",
        "\n"
      ]
    },
    {
      "cell_type": "code",
      "execution_count": null,
      "metadata": {},
      "outputs": [],
      "source": [
        "Strong_claims_display = Strong_claims_display[[\"Amount Claimed Fiat\", \"Total Claim Fess Fiat\", \"Claim Fee\", \"ETH Network Fee Fiat\", \"Transaction Hash\", \"Etherscan Link\" ]]\n",
        "Strong_claims_display"
      ]
    },
    {
      "cell_type": "code",
      "execution_count": null,
      "metadata": {},
      "outputs": [],
      "source": [
        "Strong_claims.to_csv(\"Strong_claim_data.csv\")"
      ]
    },
    {
      "cell_type": "code",
      "execution_count": null,
      "metadata": {
        "id": "7R6PEskS08aK"
      },
      "outputs": [],
      "source": [
        "Strong_claims\n",
        "\n",
        "\n",
        "Strong_Claims_EUR_total = Strong_Claims.Buy_Fiat_Amount.astype(float).sum()\n"
      ]
    },
    {
      "cell_type": "code",
      "execution_count": null,
      "metadata": {
        "id": "G1iCofrFfXY7"
      },
      "outputs": [],
      "source": [
        "Strong_leaving_Wallet = df[df['Sell_Currency'].str.contains(\"STRONG\", na=False)]\n",
        "\n"
      ]
    },
    {
      "cell_type": "code",
      "execution_count": null,
      "metadata": {
        "id": "lYIJWRSBi2X3"
      },
      "outputs": [],
      "source": [
        "Node_creation_transactions = Strong_leaving_Wallet[Strong_leaving_Wallet['Sell_Currency'].str.contains(\"ETH\\nSTRONG\", na=False)]\n",
        "Total_nodes_created = Node_creation_transactions.shape[0]\n",
        "\n"
      ]
    },
    {
      "cell_type": "code",
      "execution_count": null,
      "metadata": {},
      "outputs": [],
      "source": [
        "Node_creation_transactions"
      ]
    },
    {
      "cell_type": "code",
      "execution_count": null,
      "metadata": {},
      "outputs": [],
      "source": [
        "# Node_creation_transactions =  Node_creation_transactions[[\"Date\", \"Sell_Fiat_Amount\", \"Fee_Fiat_Amount\", \"Buy_Fiat_Amount\", \"Tx_Hash\", \"Link\"]]\n",
        "# Node_creation_transactions.set_index('Date', inplace=True)\n"
      ]
    },
    {
      "cell_type": "code",
      "execution_count": null,
      "metadata": {
        "id": "OIoaQgvIqNn-"
      },
      "outputs": [],
      "source": [
        "Node_creation_transactions\n",
        "\n",
        "\n",
        "Node_creation_gas_fees_total = Node_creation_transactions.Fee_Fiat_Amount.sum()\n",
        "\n",
        "Node_creation_gas_fees_total"
      ]
    },
    {
      "cell_type": "code",
      "execution_count": null,
      "metadata": {},
      "outputs": [],
      "source": [
        "Node_creation_transactions_display = Node_creation_transactions\n",
        "new = Node_creation_transactions_display[['Sell_Fiat_Amount']]\n",
        "new\n"
      ]
    },
    {
      "cell_type": "code",
      "execution_count": null,
      "metadata": {},
      "outputs": [],
      "source": [
        "# new data frame with split value columns\n",
        "new = new[\"Sell_Fiat_Amount\"].str.split(\"\\n\", n = 1, expand = True)\n",
        "Node_creation_transactions_display[\"Creation Fee ETH Fiat\"] = new[0]\n",
        "Node_creation_transactions_display[\"Creation Fee STRONG Fiat\"] = new[1]"
      ]
    },
    {
      "cell_type": "code",
      "execution_count": null,
      "metadata": {},
      "outputs": [],
      "source": [
        "Node_creation_transactions_display = Node_creation_transactions_display[[\"Date\", \"Creation Fee ETH Fiat\", \"Creation Fee STRONG Fiat\",\"Fee_Fiat_Amount\", \"Tx_Hash\", \"Link\"]]\n",
        "Node_creation_transactions_display = Node_creation_transactions_display.rename(columns={\"Sell_Fiat_Amount\": \"Claim Fee\", \"Fee_Fiat_Amount\": \"ETH Network Fee Fiat\", \"Buy_Fiat_Amount\": \"Amount Claimed Fiat\", \"total_paid_claims\": \"Total Claim Fess Fiat\", \"Tx_Hash\": \"Transaction Hash\", \"Link\": \"Etherscan Link\" })\n",
        "Node_creation_transactions_display  = Node_creation_transactions_display.rename(columns={\"Sell_Fiat_Amount\": \"Claim Fee\", \"Fee_Fiat_Amount\": \"ETH Network Fee Fiat\", \"Buy_Fiat_Amount\": \"Amount Claimed Fiat\", \"total_paid_claims\": \"Total Claim Fess Fiat\", \"Tx_Hash\": \"Transaction Hash\", \"Link\": \"Etherscan Link\" })\n"
      ]
    },
    {
      "cell_type": "code",
      "execution_count": null,
      "metadata": {},
      "outputs": [],
      "source": [
        "Node_creation_transactions_display"
      ]
    },
    {
      "cell_type": "code",
      "execution_count": null,
      "metadata": {
        "id": "YCSevY8ztxgU"
      },
      "outputs": [],
      "source": [
        "\n",
        "\n",
        "Creation_dates = Node_creation_transactions[['Date', 'Sell_Fiat_Amount']]\n",
        "\n",
        "def sum_node_creation_cost(dual_cost):\n",
        "  value = str(dual_cost).split(\"\\n\")[0] , str(dual_cost).split(\"\\n\")[1]\n",
        "  value = float(value[0]) + float(value[1])\n",
        "  return value\n",
        "\n",
        "\n",
        "Creation_dates['Sell_Fiat_Amount'] = [ sum_node_creation_cost(x) for x in Creation_dates['Sell_Fiat_Amount'] ] \n",
        "\n",
        "Creation_dates"
      ]
    },
    {
      "cell_type": "code",
      "execution_count": null,
      "metadata": {},
      "outputs": [],
      "source": [
        "Creation_dates.to_csv(\"node_creation_dates.csv\")"
      ]
    },
    {
      "cell_type": "code",
      "execution_count": null,
      "metadata": {
        "id": "_bpk31NAze7I"
      },
      "outputs": [],
      "source": [
        "Creation_dates['Dates'] = [datetime.strptime(date, '%m/%d/%Y').date() for date in Creation_dates['Date']]\n"
      ]
    },
    {
      "cell_type": "code",
      "execution_count": null,
      "metadata": {
        "id": "rSUAl0wwmLrl"
      },
      "outputs": [],
      "source": [
        "\n",
        "\n",
        "Fee_list = list(Node_creation_transactions.Sell_Fiat_Amount)\n",
        "\n",
        "\n",
        "\n",
        "\n",
        "Eth_fees_EUR = []\n",
        "Strong_fees_EUR = []\n",
        "\n",
        "for i in range(len(Fee_list)):\n",
        "   Eth_fee = Fee_list[i].split(\"\\n\")[0]\n",
        "   Eth_fee = float(Eth_fee)\n",
        "   Eth_fees_EUR.append(Eth_fee)\n",
        "   STRONG_fee = Fee_list[i].split(\"\\n\")[1]\n",
        "   STRONG_fee = float(STRONG_fee)\n",
        "   Strong_fees_EUR.append(STRONG_fee)\n",
        "\n"
      ]
    },
    {
      "cell_type": "code",
      "execution_count": null,
      "metadata": {
        "id": "EVIJ-4vlorRf"
      },
      "outputs": [],
      "source": [
        "Total_ETH_creation_fees = sum(Eth_fees_EUR)\n",
        "Total_STRONG_creation_fees = sum(Strong_fees_EUR)\n"
      ]
    },
    {
      "cell_type": "code",
      "execution_count": null,
      "metadata": {
        "id": "ayVNPBmcqeGD"
      },
      "outputs": [],
      "source": [
        "Strong_Monthly_fees = df[df['Receiver'].str.contains(\"0xfbddadd80fe7bda00b901fbaf73803f2238ae655\")]\n",
        "Strong_Monthly_fees = Strong_Monthly_fees[Strong_Monthly_fees['Accounting_Type'].str.contains(\"Spend\")]\n",
        "Strong_Monthly_fees = Strong_Monthly_fees[Strong_Monthly_fees['Sell_Currency'] == \"ETH\"]\n",
        "\n",
        "\n"
      ]
    },
    {
      "cell_type": "code",
      "execution_count": null,
      "metadata": {
        "id": "HKkUIDTJ1j_V"
      },
      "outputs": [],
      "source": [
        "Monthly_Fee_list = list(Strong_Monthly_fees.Sell_Fiat_Amount)\n",
        "Monthly_Fee_Gas_list = list(Strong_Monthly_fees.Fee_Fiat_Amount)\n",
        "\n",
        "Monthly_Fees_EUR = []\n",
        "Monthly_Fee_Gas_Fees_EUR = []\n",
        "\n",
        "for i in range(len(Monthly_Fee_list)):\n",
        "  Monthly_Fees_EUR.append(float(Monthly_Fee_list[i]))\n",
        "  Monthly_Fee_Gas_Fees_EUR.append(float(Monthly_Fee_Gas_list[i])) \n",
        "   \n",
        "Total_monthly_fees_EUR = sum(Monthly_Fees_EUR)\n",
        "\n",
        "Total_monthly_gas_fees_EUR = sum(Monthly_Fee_Gas_Fees_EUR)\n",
        "\n",
        "   \n",
        "Total_monthly_fees_EUR\n",
        "\n"
      ]
    },
    {
      "cell_type": "markdown",
      "metadata": {
        "id": "20k_awyTAgF-"
      },
      "source": [
        "Right, this one is a bolox to calculate as i dont think zerion records this type of transaction. Essentially I want to calculate the fees for each transfer of ETH or USD-based stablecoin to Coinbase, which is my fiat off-ramp at present. Essentially I need to calulate the EUR value of the ethereum gas fee for each of these transactions, simple eh? Not really Coinbase generates a new send address every time and zerion doesnt record these transactions."
      ]
    },
    {
      "cell_type": "code",
      "execution_count": null,
      "metadata": {
        "id": "bYLirEunAdC0"
      },
      "outputs": [],
      "source": [
        "# Etherscan_CSV = files.upload()\n",
        "# # Grab the file name from the first dictionary key\n",
        "# Etherscan_CSV  = list(Etherscan_CSV.keys())[0]\n",
        "# Etherscan_df = pd.read_csv(Etherscan_CSV, index_col=False)\n",
        "# Etherscan_df\n",
        "\n",
        "\n",
        "\n"
      ]
    },
    {
      "cell_type": "code",
      "execution_count": null,
      "metadata": {
        "id": "ino-KnMyCKx3"
      },
      "outputs": [],
      "source": [
        "# Etherscan_df = pd.read_csv(Etherscan_CSV, index_col=False)"
      ]
    },
    {
      "cell_type": "code",
      "execution_count": null,
      "metadata": {
        "id": "RiOO8duhPS1O"
      },
      "outputs": [],
      "source": [
        "# Etherscan_df"
      ]
    },
    {
      "cell_type": "code",
      "execution_count": null,
      "metadata": {
        "id": "WsK8wYhoGYkc"
      },
      "outputs": [],
      "source": [
        "# Coinbase_wallets = files.upload()\n",
        "# Coinbase_wallets = list(Coinbase_wallets.keys())[0]\n"
      ]
    },
    {
      "cell_type": "code",
      "execution_count": null,
      "metadata": {
        "id": "86mSCB-rH4wM"
      },
      "outputs": [],
      "source": [
        "# with open(Coinbase_wallets) as file:\n",
        "#     lines = file.readlines()\n",
        "#     Coinbase_wallet_list = [line.rstrip() for line in lines]"
      ]
    },
    {
      "cell_type": "code",
      "execution_count": null,
      "metadata": {
        "id": "TttQ0WOZJawW"
      },
      "outputs": [],
      "source": [
        "# def String_match_list(df,col,searchfor):\n",
        "#   df[\"TrueFalse\"] = df[str(col)].apply(lambda x: True if any(i in x for i in searchfor) else False)\n",
        "#   df = df[df[\"TrueFalse\"]]\n",
        "#   return df"
      ]
    },
    {
      "cell_type": "code",
      "execution_count": null,
      "metadata": {
        "id": "di_qdpGbOvLz"
      },
      "outputs": [],
      "source": [
        "# to_cb = String_match_list(Etherscan_df,\"To\",Coinbase_wallet_list )\n",
        "\n",
        "# to_cb\n"
      ]
    },
    {
      "cell_type": "code",
      "execution_count": null,
      "metadata": {
        "id": "dXQKNuXFE2fi"
      },
      "outputs": [],
      "source": [
        "# Fees for all transactions for incoming $STRONG in EUR fiat value. This includes purchases and claims.\n",
        "\n",
        "Total_fees_IN = Strong_To_Wallet.Fee_Fiat_Amount.sum()\n",
        "print(\"Total Incoming $STRONG Fees €\",round(Total_fees_IN, 2))\n",
        "\n",
        "Strong_Buy_fees = Strong_Buys.Fee_Fiat_Amount.sum()\n",
        "print(\"Total Incoming $STRONG Purchase Fees €\",round(Strong_Buy_fees, 2))\n",
        "\n",
        "Strong_Claim_fees = Strong_Claims.Fee_Fiat_Amount.sum()\n",
        "print(\"Total Incoming $STRONG Claim Fees €\", round(Strong_Claim_fees,2))\n",
        "\n",
        "print(\" \")\n",
        "\n",
        "print(\"Total $STRONG Claimed by EUR value at time of claim €\", round(Strong_Claims_EUR_total,2))\n",
        "\n",
        "\n",
        "# print(\"Total $STRONG Claimed by $STRONG value at time of claim \",Strong_claims_STRONG_total)\n",
        "\n",
        "print(\" \")\n",
        "print(\"Total Nodes created (All Time)\", round(Total_nodes_created,2), \"Strong Nodes\")\n",
        "print(\"Total $ETH creation Fees in EUR €\", round(Total_ETH_creation_fees,2))\n",
        "print(\"Total $STRONG creation Fees in EUR €\", round(Total_STRONG_creation_fees,2))\n",
        "print(\"Total Gas fees for node creation in EUR €\", round(Node_creation_gas_fees_total,2))\n",
        "\n",
        "print(\" \")\n",
        "print(\"Total monthly Node Fees EUR €\", round(Total_monthly_fees_EUR,2))\n",
        "print(\"Total gas paid in paying monthly fees €\", round(Total_monthly_gas_fees_EUR,2) )\n",
        "\n",
        "strong_compund_total = Total_STRONG_creation_fees - Strong_buy_total\n",
        "tax_deductable_total = round(Total_nodes_created,2) + round(Total_ETH_creation_fees,2) +  round(strong_compund_total *0.66666,2) +  round(Node_creation_gas_fees_total,2) + round(Total_monthly_gas_fees_EUR,2)+round(Total_monthly_fees_EUR,2)+round(Strong_swap_ETH_fees,2)+round(Cowswap_fees,2)\n",
        "print(\" \")\n",
        "print(\"Total tax deductable fees\", tax_deductable_total)\n",
        "\n",
        "payment_due = round(Strong_Claims_EUR_total,2) - tax_deductable_total\n",
        "print(\"Total payment due\", payment_due*0.333)"
      ]
    },
    {
      "cell_type": "code",
      "execution_count": null,
      "metadata": {
        "id": "A1_pAW4kHRDn"
      },
      "outputs": [],
      "source": []
    },
    {
      "cell_type": "markdown",
      "metadata": {
        "id": "1NqZWZCdSM3S"
      },
      "source": []
    }
  ],
  "metadata": {
    "colab": {
      "collapsed_sections": [],
      "machine_shape": "hm",
      "name": "StrongBlock_Tax_calculator.ipynb",
      "provenance": []
    },
    "kernelspec": {
      "display_name": "Python 3",
      "name": "python3"
    },
    "language_info": {
      "codemirror_mode": {
        "name": "ipython",
        "version": 3
      },
      "file_extension": ".py",
      "mimetype": "text/x-python",
      "name": "python",
      "nbconvert_exporter": "python",
      "pygments_lexer": "ipython3",
      "version": "3.9.7"
    }
  },
  "nbformat": 4,
  "nbformat_minor": 0
}
